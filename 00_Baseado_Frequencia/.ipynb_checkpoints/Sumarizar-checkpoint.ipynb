{
 "cells": [
  {
   "cell_type": "markdown",
   "id": "98f1ae09",
   "metadata": {},
   "source": [
    "# Algoritmo baseado para Sumarização de Textos\n",
    "\n",
    "- Teoria e Cálculos passo a passo\n",
    "- Implementação do algoritmo\n",
    "- Geração de resumos\n",
    "- Exercício\n",
    "\n",
    "### Sumarização de textos\n",
    "\n",
    "- 1 - Pré-processamento do texto\n",
    "- 2 - Frequência das palavras\n",
    "- 3 - Frequência proporcional das palavras(pesos)\n",
    "- 4 - Tokenização das sentenças\n",
    "- 5 - Nota para as sentenças\n",
    "- 6 - Ordenação das melhores sentenças\n",
    "- 7 - Gerando o resumo\n",
    "\n",
    "#### 1 - Pré-processamento do texto\n",
    "\n",
    "Faremos 3 tipos de pré-processamento:\n",
    "\n",
    "- Converter todo o texto para minúsculo\n",
    "- Remoção das stopwords\n",
    "- Remoção da pontuação\n",
    "\n",
    "#### 2 - Frequência das palavras\n",
    "\n",
    "Vamos verificar quantas vezes cada palavra aparece.\n",
    "\n",
    "#### 3 - Frequência proporcional das palavras(pesos)\n",
    "\n",
    "Vamos dividir as ocorrências da palavras com o valor da palavra que mais apareceu em nosso texto. No exemplo, vamos usar a palavra inteligência como maior ocorrência, 6 e dividir todas as demais por ela.  \n",
    "\n",
    "![image](https://user-images.githubusercontent.com/6373438/233171538-c84e39e9-463a-4ba6-8f13-b8e685c7e918.png)\n",
    "\n",
    "#### 4 - Tokenização das sentenças\n",
    "\n",
    "![image](https://user-images.githubusercontent.com/6373438/233172214-3d7c9eab-82f1-4607-a0ea-96ca5a2e8265.png)\n",
    "\n",
    "#### 5 - Nota para as sentenças\n",
    "\n",
    "![image](https://user-images.githubusercontent.com/6373438/233172389-8f983227-eb8a-411a-b250-9ec0622a0fc8.png)\n",
    "\n",
    "\n",
    "#### 6 - Ordenação das melhores sentenças\n",
    "\n",
    "![image](https://user-images.githubusercontent.com/6373438/233172389-8f983227-eb8a-411a-b250-9ec0622a0fc8.png)\n",
    "\n",
    "#### 7 - Gerando o resumo\n",
    "\n",
    "![image](https://user-images.githubusercontent.com/6373438/233172752-03642386-a286-4d70-b474-62a3b2a7f712.png)"
   ]
  },
  {
   "cell_type": "markdown",
   "id": "9069c850",
   "metadata": {},
   "source": [
    "## Pré-processamento do texto"
   ]
  },
  {
   "cell_type": "code",
   "execution_count": 1,
   "id": "064731da",
   "metadata": {},
   "outputs": [],
   "source": [
    "# Importando as libs\n",
    "import re\n",
    "import nltk\n",
    "import string"
   ]
  },
  {
   "cell_type": "code",
   "execution_count": 4,
   "id": "f215bb5f",
   "metadata": {},
   "outputs": [],
   "source": [
    "texto_original = \"\"\"A inteligência artificial é a inteligência similar a humana. \n",
    "                    Definem como o estudo de agente artificial com inteligência.\n",
    "                    Ciência e engenharia de produzir máquinas com inteligência.\n",
    "                    Resolver problemas e possuir inteligência.\n",
    "                    Relacionada ao comportamento inteligente.\n",
    "                    Construção de máquinas para raciocinar.\n",
    "                    Aprender com os erros e acertos. Inteligência artificial é raciocinar nas situações do cotidiano.\"\"\""
   ]
  },
  {
   "cell_type": "code",
   "execution_count": 5,
   "id": "853498e9",
   "metadata": {},
   "outputs": [
    {
     "data": {
      "text/plain": [
       "'A inteligência artificial é a inteligência similar a humana. \\n                    Definem como o estudo de agente artificial com inteligência.\\n                    Ciência e engenharia de produzir máquinas com inteligência.\\n                    Resolver problemas e possuir inteligência.\\n                    Relacionada ao comportamento inteligente.\\n                    Construção de máquinas para raciocinar.\\n                    Aprender com os erros e acertos. Inteligência artificial é raciocinar nas situações do cotidiano.'"
      ]
     },
     "execution_count": 5,
     "metadata": {},
     "output_type": "execute_result"
    }
   ],
   "source": [
    "texto_original"
   ]
  },
  {
   "cell_type": "code",
   "execution_count": 6,
   "id": "3c36b2a4",
   "metadata": {},
   "outputs": [],
   "source": [
    "texto_original = re.sub(r'\\s+', ' ', texto_original)"
   ]
  },
  {
   "cell_type": "code",
   "execution_count": 7,
   "id": "2418c113",
   "metadata": {},
   "outputs": [
    {
     "data": {
      "text/plain": [
       "'A inteligência artificial é a inteligência similar a humana. Definem como o estudo de agente artificial com inteligência. Ciência e engenharia de produzir máquinas com inteligência. Resolver problemas e possuir inteligência. Relacionada ao comportamento inteligente. Construção de máquinas para raciocinar. Aprender com os erros e acertos. Inteligência artificial é raciocinar nas situações do cotidiano.'"
      ]
     },
     "execution_count": 7,
     "metadata": {},
     "output_type": "execute_result"
    }
   ],
   "source": [
    "texto_original"
   ]
  },
  {
   "cell_type": "code",
   "execution_count": 10,
   "id": "f84a2e24",
   "metadata": {},
   "outputs": [
    {
     "name": "stderr",
     "output_type": "stream",
     "text": [
      "[nltk_data] Downloading package punkt to\n",
      "[nltk_data]     C:\\Users\\adria\\AppData\\Roaming\\nltk_data...\n",
      "[nltk_data]   Unzipping tokenizers\\punkt.zip.\n"
     ]
    },
    {
     "data": {
      "text/plain": [
       "True"
      ]
     },
     "execution_count": 10,
     "metadata": {},
     "output_type": "execute_result"
    }
   ],
   "source": [
    "nltk.download('punkt')"
   ]
  },
  {
   "cell_type": "code",
   "execution_count": 16,
   "id": "bb95ae42",
   "metadata": {},
   "outputs": [
    {
     "name": "stderr",
     "output_type": "stream",
     "text": [
      "[nltk_data] Downloading package stopwords to\n",
      "[nltk_data]     C:\\Users\\adria\\AppData\\Roaming\\nltk_data...\n",
      "[nltk_data]   Unzipping corpora\\stopwords.zip.\n"
     ]
    },
    {
     "data": {
      "text/plain": [
       "True"
      ]
     },
     "execution_count": 16,
     "metadata": {},
     "output_type": "execute_result"
    }
   ],
   "source": [
    "nltk.download('stopwords')"
   ]
  },
  {
   "cell_type": "code",
   "execution_count": 17,
   "id": "83dcf83f",
   "metadata": {},
   "outputs": [
    {
     "name": "stdout",
     "output_type": "stream",
     "text": [
      "['a', 'à', 'ao', 'aos', 'aquela', 'aquelas', 'aquele', 'aqueles', 'aquilo', 'as', 'às', 'até', 'com', 'como', 'da', 'das', 'de', 'dela', 'delas', 'dele', 'deles', 'depois', 'do', 'dos', 'e', 'é', 'ela', 'elas', 'ele', 'eles', 'em', 'entre', 'era', 'eram', 'éramos', 'essa', 'essas', 'esse', 'esses', 'esta', 'está', 'estamos', 'estão', 'estar', 'estas', 'estava', 'estavam', 'estávamos', 'este', 'esteja', 'estejam', 'estejamos', 'estes', 'esteve', 'estive', 'estivemos', 'estiver', 'estivera', 'estiveram', 'estivéramos', 'estiverem', 'estivermos', 'estivesse', 'estivessem', 'estivéssemos', 'estou', 'eu', 'foi', 'fomos', 'for', 'fora', 'foram', 'fôramos', 'forem', 'formos', 'fosse', 'fossem', 'fôssemos', 'fui', 'há', 'haja', 'hajam', 'hajamos', 'hão', 'havemos', 'haver', 'hei', 'houve', 'houvemos', 'houver', 'houvera', 'houverá', 'houveram', 'houvéramos', 'houverão', 'houverei', 'houverem', 'houveremos', 'houveria', 'houveriam', 'houveríamos', 'houvermos', 'houvesse', 'houvessem', 'houvéssemos', 'isso', 'isto', 'já', 'lhe', 'lhes', 'mais', 'mas', 'me', 'mesmo', 'meu', 'meus', 'minha', 'minhas', 'muito', 'na', 'não', 'nas', 'nem', 'no', 'nos', 'nós', 'nossa', 'nossas', 'nosso', 'nossos', 'num', 'numa', 'o', 'os', 'ou', 'para', 'pela', 'pelas', 'pelo', 'pelos', 'por', 'qual', 'quando', 'que', 'quem', 'são', 'se', 'seja', 'sejam', 'sejamos', 'sem', 'ser', 'será', 'serão', 'serei', 'seremos', 'seria', 'seriam', 'seríamos', 'seu', 'seus', 'só', 'somos', 'sou', 'sua', 'suas', 'também', 'te', 'tem', 'tém', 'temos', 'tenha', 'tenham', 'tenhamos', 'tenho', 'terá', 'terão', 'terei', 'teremos', 'teria', 'teriam', 'teríamos', 'teu', 'teus', 'teve', 'tinha', 'tinham', 'tínhamos', 'tive', 'tivemos', 'tiver', 'tivera', 'tiveram', 'tivéramos', 'tiverem', 'tivermos', 'tivesse', 'tivessem', 'tivéssemos', 'tu', 'tua', 'tuas', 'um', 'uma', 'você', 'vocês', 'vos']\n"
     ]
    }
   ],
   "source": [
    "stopwords = nltk.corpus.stopwords.words(\"portuguese\")\n",
    "print(stopwords)"
   ]
  },
  {
   "cell_type": "code",
   "execution_count": 18,
   "id": "c96ca02a",
   "metadata": {},
   "outputs": [
    {
     "data": {
      "text/plain": [
       "207"
      ]
     },
     "execution_count": 18,
     "metadata": {},
     "output_type": "execute_result"
    }
   ],
   "source": [
    "len(stopwords)"
   ]
  },
  {
   "cell_type": "code",
   "execution_count": 22,
   "id": "e1eb68b9",
   "metadata": {},
   "outputs": [
    {
     "data": {
      "text/plain": [
       "'!\"#$%&\\'()*+,-./:;<=>?@[\\\\]^_`{|}~'"
      ]
     },
     "execution_count": 22,
     "metadata": {},
     "output_type": "execute_result"
    }
   ],
   "source": [
    "string.punctuation"
   ]
  },
  {
   "cell_type": "code",
   "execution_count": 25,
   "id": "d3026606",
   "metadata": {},
   "outputs": [],
   "source": [
    "def preprocessamento(texto):\n",
    "    # Convertendo tudo para minus\n",
    "    texto_formatado = texto.lower()\n",
    "    \n",
    "    # Gerando os Tokens\n",
    "    tokens = []\n",
    "    for token in nltk.word_tokenize(texto_formatado):\n",
    "        tokens.append(token)\n",
    "        \n",
    "    # Removendo as stopwords\n",
    "    tokens = [palavra for palavra in tokens if palavra not in stopwords and palavra not in string.punctuation]\n",
    "    \n",
    "    # Gerando o texto em formato correto\n",
    "    texto_formatado = \" \".join([str(elemento) for elemento in tokens])\n",
    "    \n",
    "    return texto_formatado\n",
    "    # return tokens"
   ]
  },
  {
   "cell_type": "code",
   "execution_count": 26,
   "id": "1c053f34",
   "metadata": {},
   "outputs": [
    {
     "data": {
      "text/plain": [
       "'inteligência artificial inteligência similar humana definem estudo agente artificial inteligência ciência engenharia produzir máquinas inteligência resolver problemas possuir inteligência relacionada comportamento inteligente construção máquinas raciocinar aprender erros acertos inteligência artificial raciocinar situações cotidiano'"
      ]
     },
     "execution_count": 26,
     "metadata": {},
     "output_type": "execute_result"
    }
   ],
   "source": [
    "texto_formatado = preprocessamento(texto_original)\n",
    "texto_formatado"
   ]
  },
  {
   "cell_type": "markdown",
   "id": "250cef7e",
   "metadata": {},
   "source": [
    "## Frequência das Palavras"
   ]
  },
  {
   "cell_type": "code",
   "execution_count": 30,
   "id": "105b1551",
   "metadata": {},
   "outputs": [
    {
     "data": {
      "text/plain": [
       "FreqDist({'inteligência': 6, 'artificial': 3, 'máquinas': 2, 'raciocinar': 2, 'similar': 1, 'humana': 1, 'definem': 1, 'estudo': 1, 'agente': 1, 'ciência': 1, ...})"
      ]
     },
     "execution_count": 30,
     "metadata": {},
     "output_type": "execute_result"
    }
   ],
   "source": [
    "# Exibe quantas vezes cada letra foi exibida no código\n",
    "frequencia_palavras = nltk.FreqDist(texto_formatado)\n",
    "\n",
    "# Na verdade queremos as palavras, ai usaremos o word_tokenize\n",
    "frequencia_palavras = nltk.FreqDist(nltk.word_tokenize(texto_formatado))\n",
    "frequencia_palavras"
   ]
  },
  {
   "cell_type": "code",
   "execution_count": 36,
   "id": "7dc4f128",
   "metadata": {},
   "outputs": [
    {
     "data": {
      "text/plain": [
       "6"
      ]
     },
     "execution_count": 36,
     "metadata": {},
     "output_type": "execute_result"
    }
   ],
   "source": [
    "frequencia_palavras['inteligência']"
   ]
  },
  {
   "cell_type": "code",
   "execution_count": 37,
   "id": "3477100b",
   "metadata": {},
   "outputs": [
    {
     "data": {
      "text/plain": [
       "dict_keys(['inteligência', 'artificial', 'similar', 'humana', 'definem', 'estudo', 'agente', 'ciência', 'engenharia', 'produzir', 'máquinas', 'resolver', 'problemas', 'possuir', 'relacionada', 'comportamento', 'inteligente', 'construção', 'raciocinar', 'aprender', 'erros', 'acertos', 'situações', 'cotidiano'])"
      ]
     },
     "execution_count": 37,
     "metadata": {},
     "output_type": "execute_result"
    }
   ],
   "source": [
    "frequencia_palavras.keys()"
   ]
  },
  {
   "cell_type": "markdown",
   "id": "f8d3c746",
   "metadata": {},
   "source": [
    "## Frequência Proporcional"
   ]
  },
  {
   "cell_type": "code",
   "execution_count": 35,
   "id": "7090ee2c",
   "metadata": {},
   "outputs": [
    {
     "data": {
      "text/plain": [
       "6"
      ]
     },
     "execution_count": 35,
     "metadata": {},
     "output_type": "execute_result"
    }
   ],
   "source": [
    "frequencia_maxima = max(frequencia_palavras.values())\n",
    "frequencia_maxima"
   ]
  },
  {
   "cell_type": "code",
   "execution_count": 38,
   "id": "4af0f220",
   "metadata": {},
   "outputs": [],
   "source": [
    "for palavra in frequencia_palavras.keys():\n",
    "    frequencia_palavras[palavra] = (frequencia_palavras[palavra] / frequencia_maxima)"
   ]
  },
  {
   "cell_type": "code",
   "execution_count": 39,
   "id": "907b41d7",
   "metadata": {},
   "outputs": [
    {
     "data": {
      "text/plain": [
       "FreqDist({'inteligência': 1.0, 'artificial': 0.5, 'máquinas': 0.3333333333333333, 'raciocinar': 0.3333333333333333, 'similar': 0.16666666666666666, 'humana': 0.16666666666666666, 'definem': 0.16666666666666666, 'estudo': 0.16666666666666666, 'agente': 0.16666666666666666, 'ciência': 0.16666666666666666, ...})"
      ]
     },
     "execution_count": 39,
     "metadata": {},
     "output_type": "execute_result"
    }
   ],
   "source": [
    "frequencia_palavras"
   ]
  },
  {
   "cell_type": "markdown",
   "id": "de089a44",
   "metadata": {},
   "source": [
    "## Tokenização das Sentenças"
   ]
  },
  {
   "cell_type": "code",
   "execution_count": 41,
   "id": "9d99021f",
   "metadata": {},
   "outputs": [
    {
     "data": {
      "text/plain": [
       "['o dr', ' joão foi pra casa', ' Ele chegou cedo', '']"
      ]
     },
     "execution_count": 41,
     "metadata": {},
     "output_type": "execute_result"
    }
   ],
   "source": [
    "'o dr. joão foi pra casa. Ele chegou cedo.'.split('.')"
   ]
  },
  {
   "cell_type": "code",
   "execution_count": 42,
   "id": "d1e54cd9",
   "metadata": {},
   "outputs": [
    {
     "data": {
      "text/plain": [
       "['o', 'dr.', 'joão', 'foi', 'pra', 'casa', '.', 'Ele', 'chegou', 'cedo', '.']"
      ]
     },
     "execution_count": 42,
     "metadata": {},
     "output_type": "execute_result"
    }
   ],
   "source": [
    "nltk.word_tokenize('o dr. joão foi pra casa. Ele chegou cedo.')"
   ]
  },
  {
   "cell_type": "code",
   "execution_count": 43,
   "id": "61a2b2be",
   "metadata": {},
   "outputs": [
    {
     "data": {
      "text/plain": [
       "['o dr. joão foi pra casa.', 'Ele chegou cedo.']"
      ]
     },
     "execution_count": 43,
     "metadata": {},
     "output_type": "execute_result"
    }
   ],
   "source": [
    "nltk.sent_tokenize('o dr. joão foi pra casa. Ele chegou cedo.')"
   ]
  },
  {
   "cell_type": "markdown",
   "id": "9f384d88",
   "metadata": {},
   "source": [
    "Agora vamos trabalhar com a geração das sentenças. Mas antes vou mostrar a forma incorreta de se fazer isso."
   ]
  },
  {
   "cell_type": "code",
   "execution_count": 44,
   "id": "148441c7",
   "metadata": {},
   "outputs": [
    {
     "data": {
      "text/plain": [
       "['inteligência artificial inteligência similar humana definem estudo agente artificial inteligência ciência engenharia produzir máquinas inteligência resolver problemas possuir inteligência relacionada comportamento inteligente construção máquinas raciocinar aprender erros acertos inteligência artificial raciocinar situações cotidiano']"
      ]
     },
     "execution_count": 44,
     "metadata": {},
     "output_type": "execute_result"
    }
   ],
   "source": [
    "lista_sentencas = nltk.sent_tokenize(texto_formatado)\n",
    "lista_sentencas"
   ]
  },
  {
   "cell_type": "markdown",
   "id": "49fde321",
   "metadata": {},
   "source": [
    "Agora a forma correta"
   ]
  },
  {
   "cell_type": "code",
   "execution_count": 52,
   "id": "e6ce70e5",
   "metadata": {},
   "outputs": [
    {
     "data": {
      "text/plain": [
       "['A inteligência artificial é a inteligência similar a humana.',\n",
       " 'Definem como o estudo de agente artificial com inteligência.',\n",
       " 'Ciência e engenharia de produzir máquinas com inteligência.',\n",
       " 'Resolver problemas e possuir inteligência.',\n",
       " 'Relacionada ao comportamento inteligente.',\n",
       " 'Construção de máquinas para raciocinar.',\n",
       " 'Aprender com os erros e acertos.',\n",
       " 'Inteligência artificial é raciocinar nas situações do cotidiano.']"
      ]
     },
     "execution_count": 52,
     "metadata": {},
     "output_type": "execute_result"
    }
   ],
   "source": [
    "lista_sentencas = nltk.sent_tokenize(texto_original)\n",
    "lista_sentencas"
   ]
  },
  {
   "cell_type": "markdown",
   "id": "a8873c60",
   "metadata": {},
   "source": [
    "## Gerando o Resumo - Nota para as Sentenças"
   ]
  },
  {
   "cell_type": "code",
   "execution_count": 54,
   "id": "a701bfa8",
   "metadata": {},
   "outputs": [],
   "source": [
    "notas_sentencas = {}\n",
    "\n",
    "for sentenca in lista_sentencas:\n",
    "    #print(sentenca)\n",
    "    for palavra in nltk.word_tokenize(sentenca.lower()):\n",
    "        #print(palavra)\n",
    "        if palavra in frequencia_palavras.keys():\n",
    "            if sentenca not in notas_sentencas.keys():\n",
    "                notas_sentencas[sentenca] = frequencia_palavras[palavra]\n",
    "            else:\n",
    "                notas_sentencas[sentenca] += frequencia_palavras[palavra]"
   ]
  },
  {
   "cell_type": "code",
   "execution_count": 56,
   "id": "27abdf38",
   "metadata": {},
   "outputs": [
    {
     "data": {
      "text/plain": [
       "{'A inteligência artificial é a inteligência similar a humana.': 2.833333333333333,\n",
       " 'Definem como o estudo de agente artificial com inteligência.': 2.0,\n",
       " 'Ciência e engenharia de produzir máquinas com inteligência.': 1.8333333333333333,\n",
       " 'Resolver problemas e possuir inteligência.': 1.5,\n",
       " 'Relacionada ao comportamento inteligente.': 0.5,\n",
       " 'Construção de máquinas para raciocinar.': 0.8333333333333333,\n",
       " 'Aprender com os erros e acertos.': 0.5,\n",
       " 'Inteligência artificial é raciocinar nas situações do cotidiano.': 2.1666666666666665}"
      ]
     },
     "execution_count": 56,
     "metadata": {},
     "output_type": "execute_result"
    }
   ],
   "source": [
    "notas_sentencas"
   ]
  },
  {
   "cell_type": "markdown",
   "id": "5a3a4032",
   "metadata": {},
   "source": [
    "Ordenando as sentenças pelas notas maiores"
   ]
  },
  {
   "cell_type": "code",
   "execution_count": 57,
   "id": "73955bda",
   "metadata": {},
   "outputs": [],
   "source": [
    "import heapq"
   ]
  },
  {
   "cell_type": "code",
   "execution_count": 59,
   "id": "5fc9f056",
   "metadata": {},
   "outputs": [],
   "source": [
    "melhores_sentencas = heapq.nlargest(3, notas_sentencas, key = notas_sentencas.get)"
   ]
  },
  {
   "cell_type": "code",
   "execution_count": 60,
   "id": "be7f241e",
   "metadata": {},
   "outputs": [
    {
     "data": {
      "text/plain": [
       "['A inteligência artificial é a inteligência similar a humana.',\n",
       " 'Inteligência artificial é raciocinar nas situações do cotidiano.',\n",
       " 'Definem como o estudo de agente artificial com inteligência.']"
      ]
     },
     "execution_count": 60,
     "metadata": {},
     "output_type": "execute_result"
    }
   ],
   "source": [
    "melhores_sentencas"
   ]
  },
  {
   "cell_type": "markdown",
   "id": "a2a35f95",
   "metadata": {},
   "source": [
    "## Visualização do Resumo"
   ]
  },
  {
   "cell_type": "code",
   "execution_count": 62,
   "id": "55ab0c80",
   "metadata": {},
   "outputs": [
    {
     "name": "stdout",
     "output_type": "stream",
     "text": [
      "Texto original:  A inteligência artificial é a inteligência similar a humana. Definem como o estudo de agente artificial com inteligência. Ciência e engenharia de produzir máquinas com inteligência. Resolver problemas e possuir inteligência. Relacionada ao comportamento inteligente. Construção de máquinas para raciocinar. Aprender com os erros e acertos. Inteligência artificial é raciocinar nas situações do cotidiano.\n",
      "\n",
      "Texto resumido: A inteligência artificial é a inteligência similar a humana. Inteligência artificial é raciocinar nas situações do cotidiano. Definem como o estudo de agente artificial com inteligência.\n"
     ]
    }
   ],
   "source": [
    "resumo = \" \".join(melhores_sentencas)\n",
    "print(\"Texto original: \", texto_original)\n",
    "print()\n",
    "print(\"Texto resumido:\", resumo)"
   ]
  },
  {
   "cell_type": "markdown",
   "id": "9686ceea",
   "metadata": {},
   "source": [
    "## Visualizando o resumo com HTML"
   ]
  },
  {
   "cell_type": "code",
   "execution_count": 64,
   "id": "2196ecd2",
   "metadata": {},
   "outputs": [],
   "source": [
    "from IPython.core.display import HTML"
   ]
  },
  {
   "cell_type": "code",
   "execution_count": 65,
   "id": "29cb571c",
   "metadata": {},
   "outputs": [],
   "source": [
    "texto = ''"
   ]
  },
  {
   "cell_type": "code",
   "execution_count": 67,
   "id": "ee81cb54",
   "metadata": {},
   "outputs": [
    {
     "data": {
      "text/html": [
       "<h2>Resumo</h2>"
      ],
      "text/plain": [
       "<IPython.core.display.HTML object>"
      ]
     },
     "metadata": {},
     "output_type": "display_data"
    },
    {
     "data": {
      "text/html": [
       "<mark>A inteligência artificial é a inteligência similar a humana.</mark><mark>Definem como o estudo de agente artificial com inteligência.</mark>Ciência e engenharia de produzir máquinas com inteligência.Resolver problemas e possuir inteligência.Relacionada ao comportamento inteligente.Construção de máquinas para raciocinar.Aprender com os erros e acertos.<mark>Inteligência artificial é raciocinar nas situações do cotidiano.</mark>"
      ],
      "text/plain": [
       "<IPython.core.display.HTML object>"
      ]
     },
     "metadata": {},
     "output_type": "display_data"
    }
   ],
   "source": [
    "display(HTML(f'<h2>Resumo</h2>'))\n",
    "\n",
    "for sentenca in lista_sentencas:\n",
    "    #texto += sentenca\n",
    "    if sentenca in melhores_sentencas:\n",
    "        texto += str(sentenca).replace(sentenca, f\"<mark>{sentenca}</mark>\")\n",
    "    else: \n",
    "        texto += sentenca\n",
    "display(HTML(f\"\"\"{texto}\"\"\"))"
   ]
  },
  {
   "cell_type": "markdown",
   "id": "201e7f5e",
   "metadata": {},
   "source": [
    "# Resumindo textos da Internet"
   ]
  },
  {
   "cell_type": "code",
   "execution_count": 68,
   "id": "b97b27fa",
   "metadata": {},
   "outputs": [
    {
     "name": "stdout",
     "output_type": "stream",
     "text": [
      "Defaulting to user installation because normal site-packages is not writeable\n",
      "Collecting goose3\n",
      "  Downloading goose3-3.1.13-py3-none-any.whl (88 kB)\n",
      "     ---------------------------------------- 88.2/88.2 kB 4.9 MB/s eta 0:00:00\n",
      "Collecting pyahocorasick\n",
      "  Downloading pyahocorasick-2.0.0-cp39-cp39-win_amd64.whl (39 kB)\n",
      "Requirement already satisfied: cssselect in c:\\programdata\\anaconda3\\lib\\site-packages (from goose3) (1.1.0)\n",
      "Requirement already satisfied: requests in c:\\programdata\\anaconda3\\lib\\site-packages (from goose3) (2.28.1)\n",
      "Requirement already satisfied: beautifulsoup4 in c:\\programdata\\anaconda3\\lib\\site-packages (from goose3) (4.11.1)\n",
      "Requirement already satisfied: lxml in c:\\programdata\\anaconda3\\lib\\site-packages (from goose3) (4.9.1)\n",
      "Collecting langdetect\n",
      "  Downloading langdetect-1.0.9.tar.gz (981 kB)\n",
      "     ------------------------------------- 981.5/981.5 kB 12.3 MB/s eta 0:00:00\n",
      "  Preparing metadata (setup.py): started\n",
      "  Preparing metadata (setup.py): finished with status 'done'\n",
      "Requirement already satisfied: Pillow in c:\\programdata\\anaconda3\\lib\\site-packages (from goose3) (9.2.0)\n",
      "Requirement already satisfied: python-dateutil in c:\\programdata\\anaconda3\\lib\\site-packages (from goose3) (2.8.2)\n",
      "Requirement already satisfied: soupsieve>1.2 in c:\\programdata\\anaconda3\\lib\\site-packages (from beautifulsoup4->goose3) (2.3.1)\n",
      "Requirement already satisfied: six in c:\\programdata\\anaconda3\\lib\\site-packages (from langdetect->goose3) (1.16.0)\n",
      "Requirement already satisfied: charset-normalizer<3,>=2 in c:\\programdata\\anaconda3\\lib\\site-packages (from requests->goose3) (2.0.4)\n",
      "Requirement already satisfied: certifi>=2017.4.17 in c:\\programdata\\anaconda3\\lib\\site-packages (from requests->goose3) (2022.9.14)\n",
      "Requirement already satisfied: urllib3<1.27,>=1.21.1 in c:\\programdata\\anaconda3\\lib\\site-packages (from requests->goose3) (1.26.11)\n",
      "Requirement already satisfied: idna<4,>=2.5 in c:\\programdata\\anaconda3\\lib\\site-packages (from requests->goose3) (3.3)\n",
      "Building wheels for collected packages: langdetect\n",
      "  Building wheel for langdetect (setup.py): started\n",
      "  Building wheel for langdetect (setup.py): finished with status 'done'\n",
      "  Created wheel for langdetect: filename=langdetect-1.0.9-py3-none-any.whl size=993225 sha256=a9b34aa8ae4e7aec6f3698909a8aef0548e1c82df5c5161ad9a35b0f0dd063d0\n",
      "  Stored in directory: c:\\users\\adria\\appdata\\local\\pip\\cache\\wheels\\d1\\c1\\d9\\7e068de779d863bc8f8fc9467d85e25cfe47fa5051fff1a1bb\n",
      "Successfully built langdetect\n",
      "Installing collected packages: pyahocorasick, langdetect, goose3\n",
      "Successfully installed goose3-3.1.13 langdetect-1.0.9 pyahocorasick-2.0.0\n"
     ]
    }
   ],
   "source": [
    "!pip install goose3"
   ]
  },
  {
   "cell_type": "code",
   "execution_count": 69,
   "id": "b350353d",
   "metadata": {},
   "outputs": [],
   "source": [
    "from goose3 import Goose"
   ]
  },
  {
   "cell_type": "code",
   "execution_count": 70,
   "id": "a5c1958a",
   "metadata": {},
   "outputs": [
    {
     "name": "stderr",
     "output_type": "stream",
     "text": [
      "Publish date 19/04/2023 às 09:30 could not be resolved to UTC\n"
     ]
    }
   ],
   "source": [
    "g = Goose()\n",
    "url = \"https://tecnoblog.net/noticias/2023/04/19/spotify-fica-fora-do-ar-e-nao-toca-musicas-ou-podcasts-na-quarta-feira-19/\"\n",
    "artigo = g.extract(url)"
   ]
  },
  {
   "cell_type": "code",
   "execution_count": 72,
   "id": "82176ab6",
   "metadata": {},
   "outputs": [
    {
     "data": {
      "text/plain": [
       "{'meta': {'description': 'Plataforma caiu repentinamente na manhã da quarta-feira; usuários ficaram impossibilitados de escutar músicas ou podcasts',\n",
       "  'lang': 'pt',\n",
       "  'keywords': '',\n",
       "  'favicon': 'https://tecnoblog.net/wp-content/themes/tb/img/apple-icon-57x57.png',\n",
       "  'canonical': 'https://tecnoblog.net/noticias/2023/04/19/spotify-fica-fora-do-ar-e-nao-toca-musicas-ou-podcasts-na-quarta-feira-19/',\n",
       "  'encoding': 'utf-8'},\n",
       " 'image': None,\n",
       " 'domain': 'tecnoblog.net',\n",
       " 'title': 'Spotify fica fora do ar e não toca músicas ou podcasts na quarta-feira (19) –',\n",
       " 'cleaned_text': 'Usuários do Spotify apontaram lentidão e problemas na plataforma na quarta-feira (19), tanto para a versão web quanto no aplicativo. Quando tentamos abrir um álbum ou algum episódio, vemos apenas a movimentação de carregamento e, em seguida, a mensagem: “Algo deu errado ao carregar o artista”. A dor de cabeça já afetou milhares de indivíduos ao redor do mundo.\\n\\nOs problemas começaram a partir das 09h, com álbuns desaparecendo da playlist dos usuários, por exemplo. Depois, nada mais carregava, impossibilitando a audição de todo tipo de conteúdo.\\n\\nNo DownDetector, os relatos subiram rapidamente, alcançando em menos de 10 minutos mais de 500 notificações. No Twitter, as reclamações vieram de países diferentes, como os Estados Unidos e o Brasil. Pessoas apontaram que não era possível realizar buscas e que as mesmas faixas apareciam de forma seguida, mas que não era possível tocá-las.\\n\\nO perfil oficial de status do Spotify confirmou os problemas às 09h18 e afirmou que estão trabalhando nessa questão. Não demorou nada para uma grande quantidade de respostas ao tuíte surgirem, com muitos brincando, enquanto outros mostravam descontentamento. Por ser muito recente, não é possível informar quanto tempo levará para que tudo se normalize.\\n\\nUma das últimas vezes que a plataforma caiu foi em 2022, quando o Spotify ficou fora do ar ao lado do Discord.\\n\\nApós cerca de quase uma hora, o Spotify voltou ao ar. Segundo o perfil do Twitter de status da plataforma, tudo foi normalizado, mas se alguém se deparasse com novas lentidões, é possível avisar através do SpotifyCares na rede social do passarinho.\\n\\nA plataforma de streaming de áudio agradeceu os relatos das pessoas nas redes sociais, destacando o suporte dos usuários.\\n\\nJá é possível escutar músicas e podcasts, além de encontrar sem dificuldade os artistas e produtores de conteúdo na barra de buscas. Não há nenhum tipo de lentidão ou travamento neste momento.\\n\\nVocê teve dor de cabeça com o Spotify na quarta-feira (19)?',\n",
       " 'opengraph': {'locale': 'pt_BR',\n",
       "  'type': 'article',\n",
       "  'title': 'Spotify fica fora do ar e não toca músicas ou podcasts na quarta-feira (19) – Tecnoblog',\n",
       "  'description': 'Plataforma caiu repentinamente na manhã da quarta-feira; usuários ficaram impossibilitados de escutar músicas ou podcasts',\n",
       "  'url': 'https://tecnoblog.net/noticias/2023/04/19/spotify-fica-fora-do-ar-e-nao-toca-musicas-ou-podcasts-na-quarta-feira-19/',\n",
       "  'site_name': 'Tecnoblog',\n",
       "  'article:publisher': 'https://facebook.com/tecnoblog',\n",
       "  'article:modified_time': '2023-04-19T13:03:33+00:00',\n",
       "  'image': 'https://files.tecnoblog.net/wp-content/uploads/2022/05/spotify_capa-2_tb-700x394.png'},\n",
       " 'tags': ['EUA', 'Discord', 'Twitter', 'DownDetector', 'Brasil', 'Spotify'],\n",
       " 'tweets': ['<blockquote class=\"twitter-tweet\" data-width=\"500\" data-dnt=\"true\"><p lang=\"en\" dir=\"ltr\">Can\\'t search anything on Spotify and if I scroll through my likes or playlists, the same songs are listed over and over, what is happening 😭</p>— Andra ✨💜 (@AndraStardust) <a href=\"https://twitter.com/AndraStardust/status/1648660044236333057?ref_src=twsrc%5Etfw\" target=\"_blank\" class=\"icon-external\">April 19, 2023</a></blockquote> \\n'],\n",
       " 'movies': [],\n",
       " 'links': ['https://tecnoblog.net/achados-tb/',\n",
       "  'https://tecnoblog.net/zap/',\n",
       "  'https://t.me/achadosdotb',\n",
       "  'https://twitter.com/AndraStardust/status/1648660044236333057?ref_src=twsrc%5Etfw',\n",
       "  'https://tecnoblog.net/noticias/2022/03/08/spotify-wikipedia-e-discord-ficam-fora-do-ar-em-meio-a-evento-da-apple/',\n",
       "  'https://twitter.com/SpotifyCares',\n",
       "  'https://twitter.com/SpotifyStatus',\n",
       "  'https://downdetector.com.br/fora-do-ar/spotify/'],\n",
       " 'authors': [],\n",
       " 'publish_date': '19/04/2023 às 09:30'}"
      ]
     },
     "execution_count": 72,
     "metadata": {},
     "output_type": "execute_result"
    }
   ],
   "source": [
    "artigo.infos"
   ]
  },
  {
   "cell_type": "code",
   "execution_count": 73,
   "id": "1006ff33",
   "metadata": {},
   "outputs": [
    {
     "data": {
      "text/plain": [
       "'Spotify fica fora do ar e não toca músicas ou podcasts na quarta-feira (19) –'"
      ]
     },
     "execution_count": 73,
     "metadata": {},
     "output_type": "execute_result"
    }
   ],
   "source": [
    "artigo.title"
   ]
  },
  {
   "cell_type": "code",
   "execution_count": 74,
   "id": "df5eb682",
   "metadata": {},
   "outputs": [
    {
     "data": {
      "text/plain": [
       "['EUA', 'Discord', 'Twitter', 'DownDetector', 'Brasil', 'Spotify']"
      ]
     },
     "execution_count": 74,
     "metadata": {},
     "output_type": "execute_result"
    }
   ],
   "source": [
    "artigo.tags"
   ]
  },
  {
   "cell_type": "code",
   "execution_count": 75,
   "id": "c80c7c75",
   "metadata": {},
   "outputs": [
    {
     "data": {
      "text/plain": [
       "'Usuários do Spotify apontaram lentidão e problemas na plataforma na quarta-feira (19), tanto para a versão web quanto no aplicativo. Quando tentamos abrir um álbum ou algum episódio, vemos apenas a movimentação de carregamento e, em seguida, a mensagem: “Algo deu errado ao carregar o artista”. A dor de cabeça já afetou milhares de indivíduos ao redor do mundo.\\n\\nOs problemas começaram a partir das 09h, com álbuns desaparecendo da playlist dos usuários, por exemplo. Depois, nada mais carregava, impossibilitando a audição de todo tipo de conteúdo.\\n\\nNo DownDetector, os relatos subiram rapidamente, alcançando em menos de 10 minutos mais de 500 notificações. No Twitter, as reclamações vieram de países diferentes, como os Estados Unidos e o Brasil. Pessoas apontaram que não era possível realizar buscas e que as mesmas faixas apareciam de forma seguida, mas que não era possível tocá-las.\\n\\nO perfil oficial de status do Spotify confirmou os problemas às 09h18 e afirmou que estão trabalhando nessa questão. Não demorou nada para uma grande quantidade de respostas ao tuíte surgirem, com muitos brincando, enquanto outros mostravam descontentamento. Por ser muito recente, não é possível informar quanto tempo levará para que tudo se normalize.\\n\\nUma das últimas vezes que a plataforma caiu foi em 2022, quando o Spotify ficou fora do ar ao lado do Discord.\\n\\nApós cerca de quase uma hora, o Spotify voltou ao ar. Segundo o perfil do Twitter de status da plataforma, tudo foi normalizado, mas se alguém se deparasse com novas lentidões, é possível avisar através do SpotifyCares na rede social do passarinho.\\n\\nA plataforma de streaming de áudio agradeceu os relatos das pessoas nas redes sociais, destacando o suporte dos usuários.\\n\\nJá é possível escutar músicas e podcasts, além de encontrar sem dificuldade os artistas e produtores de conteúdo na barra de buscas. Não há nenhum tipo de lentidão ou travamento neste momento.\\n\\nVocê teve dor de cabeça com o Spotify na quarta-feira (19)?'"
      ]
     },
     "execution_count": 75,
     "metadata": {},
     "output_type": "execute_result"
    }
   ],
   "source": [
    "artigo.cleaned_text"
   ]
  },
  {
   "cell_type": "code",
   "execution_count": 76,
   "id": "b59e38c6",
   "metadata": {},
   "outputs": [
    {
     "data": {
      "text/plain": [
       "1987"
      ]
     },
     "execution_count": 76,
     "metadata": {},
     "output_type": "execute_result"
    }
   ],
   "source": [
    "len(artigo.cleaned_text)"
   ]
  },
  {
   "cell_type": "code",
   "execution_count": 77,
   "id": "c3621da8",
   "metadata": {},
   "outputs": [
    {
     "data": {
      "text/plain": [
       "'Usuários do Spotify apontaram lentidão e problemas na plataforma na quarta-feira (19), tanto para a versão web quanto no aplicativo. Quando tentamos abrir um álbum ou algum episódio, vemos apenas a movimentação de carregamento e, em seguida, a mensagem: “Algo deu errado ao carregar o artista”. A dor de cabeça já afetou milhares de indivíduos ao redor do mundo.\\n\\nOs problemas começaram a partir das 09h, com álbuns desaparecendo da playlist dos usuários, por exemplo. Depois, nada mais carregava, impossibilitando a audição de todo tipo de conteúdo.\\n\\nNo DownDetector, os relatos subiram rapidamente, alcançando em menos de 10 minutos mais de 500 notificações. No Twitter, as reclamações vieram de países diferentes, como os Estados Unidos e o Brasil. Pessoas apontaram que não era possível realizar buscas e que as mesmas faixas apareciam de forma seguida, mas que não era possível tocá-las.\\n\\nO perfil oficial de status do Spotify confirmou os problemas às 09h18 e afirmou que estão trabalhando nessa questão. Não demorou nada para uma grande quantidade de respostas ao tuíte surgirem, com muitos brincando, enquanto outros mostravam descontentamento. Por ser muito recente, não é possível informar quanto tempo levará para que tudo se normalize.\\n\\nUma das últimas vezes que a plataforma caiu foi em 2022, quando o Spotify ficou fora do ar ao lado do Discord.\\n\\nApós cerca de quase uma hora, o Spotify voltou ao ar. Segundo o perfil do Twitter de status da plataforma, tudo foi normalizado, mas se alguém se deparasse com novas lentidões, é possível avisar através do SpotifyCares na rede social do passarinho.\\n\\nA plataforma de streaming de áudio agradeceu os relatos das pessoas nas redes sociais, destacando o suporte dos usuários.\\n\\nJá é possível escutar músicas e podcasts, além de encontrar sem dificuldade os artistas e produtores de conteúdo na barra de buscas. Não há nenhum tipo de lentidão ou travamento neste momento.\\n\\nVocê teve dor de cabeça com o Spotify na quarta-feira (19)?'"
      ]
     },
     "execution_count": 77,
     "metadata": {},
     "output_type": "execute_result"
    }
   ],
   "source": [
    "artigo_original = artigo.cleaned_text\n",
    "artigo_original"
   ]
  },
  {
   "cell_type": "code",
   "execution_count": 79,
   "id": "9f232147",
   "metadata": {},
   "outputs": [
    {
     "data": {
      "text/plain": [
       "'usuários spotify apontaram lentidão problemas plataforma quarta-feira 19 tanto versão web quanto aplicativo tentamos abrir álbum algum episódio vemos apenas movimentação carregamento seguida mensagem “ algo deu errado carregar artista ” dor cabeça afetou milhares indivíduos redor mundo problemas começaram partir 09h álbuns desaparecendo playlist usuários exemplo nada carregava impossibilitando audição todo tipo conteúdo downdetector relatos subiram rapidamente alcançando menos 10 minutos 500 notificações twitter reclamações vieram países diferentes estados unidos brasil pessoas apontaram possível realizar buscas mesmas faixas apareciam forma seguida possível tocá-las perfil oficial status spotify confirmou problemas 09h18 afirmou trabalhando nessa questão demorou nada grande quantidade respostas tuíte surgirem muitos brincando enquanto outros mostravam descontentamento recente possível informar quanto tempo levará tudo normalize últimas vezes plataforma caiu 2022 spotify ficou ar lado discord após cerca quase hora spotify voltou ar segundo perfil twitter status plataforma tudo normalizado alguém deparasse novas lentidões possível avisar através spotifycares rede social passarinho plataforma streaming áudio agradeceu relatos pessoas redes sociais destacando suporte usuários possível escutar músicas podcasts além encontrar dificuldade artistas produtores conteúdo barra buscas nenhum tipo lentidão travamento neste momento dor cabeça spotify quarta-feira 19'"
      ]
     },
     "execution_count": 79,
     "metadata": {},
     "output_type": "execute_result"
    }
   ],
   "source": [
    "artigo_formatado = preprocessamento(artigo_original)\n",
    "artigo_formatado"
   ]
  },
  {
   "cell_type": "code",
   "execution_count": 80,
   "id": "e9916638",
   "metadata": {},
   "outputs": [
    {
     "data": {
      "text/plain": [
       "1477"
      ]
     },
     "execution_count": 80,
     "metadata": {},
     "output_type": "execute_result"
    }
   ],
   "source": [
    "len(artigo_formatado)"
   ]
  },
  {
   "cell_type": "markdown",
   "id": "584a9050",
   "metadata": {},
   "source": [
    "### Função sumarizar"
   ]
  },
  {
   "cell_type": "code",
   "execution_count": 81,
   "id": "82d61eef",
   "metadata": {},
   "outputs": [],
   "source": [
    "def sumarizar(texto, quantidade_sentencas):\n",
    "    texto_original = texto\n",
    "    texto_formatado = preprocessamento(texto_original)\n",
    "\n",
    "    frequencia_palavras = nltk.FreqDist(nltk.word_tokenize(texto_formatado))\n",
    "    frequencia_maxima = max(frequencia_palavras.values())\n",
    "    \n",
    "    for palavra in frequencia_palavras.keys():\n",
    "        frequencia_palavras[palavra] = (frequencia_palavras[palavra] / frequencia_maxima)\n",
    "        lista_sentencas = nltk.sent_tokenize(texto_original)\n",
    "  \n",
    "    nota_sentencas = {}\n",
    "    for sentenca in lista_sentencas:\n",
    "        for palavra in nltk.word_tokenize(sentenca):\n",
    "            if palavra in frequencia_palavras.keys():\n",
    "                if sentenca not in nota_sentencas.keys():\n",
    "                    nota_sentencas[sentenca] = frequencia_palavras[palavra]\n",
    "                else:\n",
    "                    nota_sentencas[sentenca] += frequencia_palavras[palavra]\n",
    "\n",
    "    import heapq\n",
    "    melhores_sentencas = heapq.nlargest(quantidade_sentencas, nota_sentencas, key=nota_sentencas.get)\n",
    "\n",
    "    return lista_sentencas, melhores_sentencas, frequencia_palavras, nota_sentencas"
   ]
  },
  {
   "cell_type": "code",
   "execution_count": 82,
   "id": "ed9a1d54",
   "metadata": {},
   "outputs": [],
   "source": [
    "lista_sentencas, melhores_sentencas, frequencia_palavras, nota_sentencas = sumarizar(artigo_original, 5)"
   ]
  },
  {
   "cell_type": "code",
   "execution_count": 83,
   "id": "ca66f273",
   "metadata": {},
   "outputs": [
    {
     "data": {
      "text/plain": [
       "(['Usuários do Spotify apontaram lentidão e problemas na plataforma na quarta-feira (19), tanto para a versão web quanto no aplicativo.',\n",
       "  'Quando tentamos abrir um álbum ou algum episódio, vemos apenas a movimentação de carregamento e, em seguida, a mensagem: “Algo deu errado ao carregar o artista”.',\n",
       "  'A dor de cabeça já afetou milhares de indivíduos ao redor do mundo.',\n",
       "  'Os problemas começaram a partir das 09h, com álbuns desaparecendo da playlist dos usuários, por exemplo.',\n",
       "  'Depois, nada mais carregava, impossibilitando a audição de todo tipo de conteúdo.',\n",
       "  'No DownDetector, os relatos subiram rapidamente, alcançando em menos de 10 minutos mais de 500 notificações.',\n",
       "  'No Twitter, as reclamações vieram de países diferentes, como os Estados Unidos e o Brasil.',\n",
       "  'Pessoas apontaram que não era possível realizar buscas e que as mesmas faixas apareciam de forma seguida, mas que não era possível tocá-las.',\n",
       "  'O perfil oficial de status do Spotify confirmou os problemas às 09h18 e afirmou que estão trabalhando nessa questão.',\n",
       "  'Não demorou nada para uma grande quantidade de respostas ao tuíte surgirem, com muitos brincando, enquanto outros mostravam descontentamento.',\n",
       "  'Por ser muito recente, não é possível informar quanto tempo levará para que tudo se normalize.',\n",
       "  'Uma das últimas vezes que a plataforma caiu foi em 2022, quando o Spotify ficou fora do ar ao lado do Discord.',\n",
       "  'Após cerca de quase uma hora, o Spotify voltou ao ar.',\n",
       "  'Segundo o perfil do Twitter de status da plataforma, tudo foi normalizado, mas se alguém se deparasse com novas lentidões, é possível avisar através do SpotifyCares na rede social do passarinho.',\n",
       "  'A plataforma de streaming de áudio agradeceu os relatos das pessoas nas redes sociais, destacando o suporte dos usuários.',\n",
       "  'Já é possível escutar músicas e podcasts, além de encontrar sem dificuldade os artistas e produtores de conteúdo na barra de buscas.',\n",
       "  'Não há nenhum tipo de lentidão ou travamento neste momento.',\n",
       "  'Você teve dor de cabeça com o Spotify na quarta-feira (19)?'],\n",
       " 18)"
      ]
     },
     "execution_count": 83,
     "metadata": {},
     "output_type": "execute_result"
    }
   ],
   "source": [
    "lista_sentencas, len(lista_sentencas)"
   ]
  },
  {
   "cell_type": "code",
   "execution_count": 84,
   "id": "16cbdd08",
   "metadata": {},
   "outputs": [
    {
     "data": {
      "text/plain": [
       "['Segundo o perfil do Twitter de status da plataforma, tudo foi normalizado, mas se alguém se deparasse com novas lentidões, é possível avisar através do SpotifyCares na rede social do passarinho.',\n",
       " 'Pessoas apontaram que não era possível realizar buscas e que as mesmas faixas apareciam de forma seguida, mas que não era possível tocá-las.',\n",
       " 'Usuários do Spotify apontaram lentidão e problemas na plataforma na quarta-feira (19), tanto para a versão web quanto no aplicativo.',\n",
       " 'Quando tentamos abrir um álbum ou algum episódio, vemos apenas a movimentação de carregamento e, em seguida, a mensagem: “Algo deu errado ao carregar o artista”.',\n",
       " 'A plataforma de streaming de áudio agradeceu os relatos das pessoas nas redes sociais, destacando o suporte dos usuários.']"
      ]
     },
     "execution_count": 84,
     "metadata": {},
     "output_type": "execute_result"
    }
   ],
   "source": [
    "melhores_sentencas"
   ]
  },
  {
   "cell_type": "code",
   "execution_count": 85,
   "id": "d31809e7",
   "metadata": {},
   "outputs": [
    {
     "data": {
      "text/plain": [
       "FreqDist({'spotify': 1.0, 'possível': 1.0, 'plataforma': 0.8, 'usuários': 0.6, 'problemas': 0.6, 'apontaram': 0.4, 'lentidão': 0.4, 'quarta-feira': 0.4, '19': 0.4, 'quanto': 0.4, ...})"
      ]
     },
     "execution_count": 85,
     "metadata": {},
     "output_type": "execute_result"
    }
   ],
   "source": [
    "frequencia_palavras"
   ]
  },
  {
   "cell_type": "code",
   "execution_count": 86,
   "id": "ad610446",
   "metadata": {},
   "outputs": [
    {
     "data": {
      "text/plain": [
       "{'Usuários do Spotify apontaram lentidão e problemas na plataforma na quarta-feira (19), tanto para a versão web quanto no aplicativo.': 4.200000000000001,\n",
       " 'Quando tentamos abrir um álbum ou algum episódio, vemos apenas a movimentação de carregamento e, em seguida, a mensagem: “Algo deu errado ao carregar o artista”.': 3.600000000000001,\n",
       " 'A dor de cabeça já afetou milhares de indivíduos ao redor do mundo.': 1.7999999999999998,\n",
       " 'Os problemas começaram a partir das 09h, com álbuns desaparecendo da playlist dos usuários, por exemplo.': 2.6,\n",
       " 'Depois, nada mais carregava, impossibilitando a audição de todo tipo de conteúdo.': 2.0,\n",
       " 'No DownDetector, os relatos subiram rapidamente, alcançando em menos de 10 minutos mais de 500 notificações.': 1.9999999999999998,\n",
       " 'No Twitter, as reclamações vieram de países diferentes, como os Estados Unidos e o Brasil.': 0.8,\n",
       " 'Pessoas apontaram que não era possível realizar buscas e que as mesmas faixas apareciam de forma seguida, mas que não era possível tocá-las.': 4.400000000000001,\n",
       " 'O perfil oficial de status do Spotify confirmou os problemas às 09h18 e afirmou que estão trabalhando nessa questão.': 2.8000000000000003,\n",
       " 'Não demorou nada para uma grande quantidade de respostas ao tuíte surgirem, com muitos brincando, enquanto outros mostravam descontentamento.': 2.8000000000000003,\n",
       " 'Por ser muito recente, não é possível informar quanto tempo levará para que tudo se normalize.': 2.8,\n",
       " 'Uma das últimas vezes que a plataforma caiu foi em 2022, quando o Spotify ficou fora do ar ao lado do Discord.': 2.4000000000000004,\n",
       " 'Após cerca de quase uma hora, o Spotify voltou ao ar.': 1.2000000000000002,\n",
       " 'Segundo o perfil do Twitter de status da plataforma, tudo foi normalizado, mas se alguém se deparasse com novas lentidões, é possível avisar através do SpotifyCares na rede social do passarinho.': 5.000000000000002,\n",
       " 'A plataforma de streaming de áudio agradeceu os relatos das pessoas nas redes sociais, destacando o suporte dos usuários.': 3.6000000000000005,\n",
       " 'Já é possível escutar músicas e podcasts, além de encontrar sem dificuldade os artistas e produtores de conteúdo na barra de buscas.': 3.6,\n",
       " 'Não há nenhum tipo de lentidão ou travamento neste momento.': 1.5999999999999999,\n",
       " 'Você teve dor de cabeça com o Spotify na quarta-feira (19)?': 1.6}"
      ]
     },
     "execution_count": 86,
     "metadata": {},
     "output_type": "execute_result"
    }
   ],
   "source": [
    "nota_sentencas"
   ]
  },
  {
   "cell_type": "code",
   "execution_count": 87,
   "id": "56d74d86",
   "metadata": {},
   "outputs": [],
   "source": [
    "def visualiza_resumo(titulo, lista_sentencas, melhores_sentencas):\n",
    "    from IPython.core.display import HTML\n",
    "    texto = ''\n",
    "\n",
    "    display(HTML(f'<h1>Resumo do texto - {titulo}</h1>'))\n",
    "    for i in lista_sentencas:\n",
    "        if i in melhores_sentencas:\n",
    "            texto += str(i).replace(i, f\"<mark>{i}</mark>\")\n",
    "        else:\n",
    "            texto += i\n",
    "            \n",
    "    display(HTML(f\"\"\" {texto} \"\"\"))"
   ]
  },
  {
   "cell_type": "code",
   "execution_count": 88,
   "id": "f305297e",
   "metadata": {},
   "outputs": [
    {
     "data": {
      "text/html": [
       "<h1>Resumo do texto - Spotify</h1>"
      ],
      "text/plain": [
       "<IPython.core.display.HTML object>"
      ]
     },
     "metadata": {},
     "output_type": "display_data"
    },
    {
     "data": {
      "text/html": [
       " <mark>Usuários do Spotify apontaram lentidão e problemas na plataforma na quarta-feira (19), tanto para a versão web quanto no aplicativo.</mark><mark>Quando tentamos abrir um álbum ou algum episódio, vemos apenas a movimentação de carregamento e, em seguida, a mensagem: “Algo deu errado ao carregar o artista”.</mark>A dor de cabeça já afetou milhares de indivíduos ao redor do mundo.Os problemas começaram a partir das 09h, com álbuns desaparecendo da playlist dos usuários, por exemplo.Depois, nada mais carregava, impossibilitando a audição de todo tipo de conteúdo.No DownDetector, os relatos subiram rapidamente, alcançando em menos de 10 minutos mais de 500 notificações.No Twitter, as reclamações vieram de países diferentes, como os Estados Unidos e o Brasil.<mark>Pessoas apontaram que não era possível realizar buscas e que as mesmas faixas apareciam de forma seguida, mas que não era possível tocá-las.</mark>O perfil oficial de status do Spotify confirmou os problemas às 09h18 e afirmou que estão trabalhando nessa questão.Não demorou nada para uma grande quantidade de respostas ao tuíte surgirem, com muitos brincando, enquanto outros mostravam descontentamento.Por ser muito recente, não é possível informar quanto tempo levará para que tudo se normalize.Uma das últimas vezes que a plataforma caiu foi em 2022, quando o Spotify ficou fora do ar ao lado do Discord.Após cerca de quase uma hora, o Spotify voltou ao ar.<mark>Segundo o perfil do Twitter de status da plataforma, tudo foi normalizado, mas se alguém se deparasse com novas lentidões, é possível avisar através do SpotifyCares na rede social do passarinho.</mark><mark>A plataforma de streaming de áudio agradeceu os relatos das pessoas nas redes sociais, destacando o suporte dos usuários.</mark>Já é possível escutar músicas e podcasts, além de encontrar sem dificuldade os artistas e produtores de conteúdo na barra de buscas.Não há nenhum tipo de lentidão ou travamento neste momento.Você teve dor de cabeça com o Spotify na quarta-feira (19)? "
      ],
      "text/plain": [
       "<IPython.core.display.HTML object>"
      ]
     },
     "metadata": {},
     "output_type": "display_data"
    }
   ],
   "source": [
    "visualiza_resumo('Spotify', lista_sentencas, melhores_sentencas)"
   ]
  },
  {
   "cell_type": "code",
   "execution_count": null,
   "id": "6a367611",
   "metadata": {},
   "outputs": [],
   "source": []
  }
 ],
 "metadata": {
  "kernelspec": {
   "display_name": "Python 3 (ipykernel)",
   "language": "python",
   "name": "python3"
  },
  "language_info": {
   "codemirror_mode": {
    "name": "ipython",
    "version": 3
   },
   "file_extension": ".py",
   "mimetype": "text/x-python",
   "name": "python",
   "nbconvert_exporter": "python",
   "pygments_lexer": "ipython3",
   "version": "3.9.13"
  }
 },
 "nbformat": 4,
 "nbformat_minor": 5
}
